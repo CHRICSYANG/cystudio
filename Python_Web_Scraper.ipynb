{
  "nbformat": 4,
  "nbformat_minor": 0,
  "metadata": {
    "colab": {
      "name": "Python_Web_Scraper.ipynb",
      "version": "0.3.2",
      "provenance": [],
      "collapsed_sections": [],
      "include_colab_link": true
    },
    "kernelspec": {
      "name": "python3",
      "display_name": "Python 3"
    }
  },
  "cells": [
    {
      "cell_type": "markdown",
      "metadata": {
        "id": "view-in-github",
        "colab_type": "text"
      },
      "source": [
        "<a href=\"https://colab.research.google.com/github/CHRICSYANG/cystudio/blob/master/Python_Web_Scraper.ipynb\" target=\"_parent\"><img src=\"https://colab.research.google.com/assets/colab-badge.svg\" alt=\"Open In Colab\"/></a>"
      ]
    },
    {
      "metadata": {
        "id": "f76KCSFyPvjX",
        "colab_type": "code",
        "outputId": "b585edd4-5095-4384-da94-54372a58d07e",
        "colab": {
          "base_uri": "https://localhost:8080/",
          "height": 731
        }
      },
      "cell_type": "code",
      "source": [
        "!pip install requests_html"
      ],
      "execution_count": 1,
      "outputs": [
        {
          "output_type": "stream",
          "text": [
            "Collecting requests_html\n",
            "  Downloading https://files.pythonhosted.org/packages/d6/bb/54d8db5ac95f34b035b68747d765aadcbbd78687b029b41b39d2a3728f35/requests_html-0.9.0-py2.py3-none-any.whl\n",
            "Collecting pyquery (from requests_html)\n",
            "  Downloading https://files.pythonhosted.org/packages/09/c7/ce8c9c37ab8ff8337faad3335c088d60bed4a35a4bed33a64f0e64fbcf29/pyquery-1.4.0-py2.py3-none-any.whl\n",
            "Collecting fake-useragent (from requests_html)\n",
            "  Downloading https://files.pythonhosted.org/packages/d1/79/af647635d6968e2deb57a208d309f6069d31cb138066d7e821e575112a80/fake-useragent-0.1.11.tar.gz\n",
            "Requirement already satisfied: requests in /usr/local/lib/python3.6/dist-packages (from requests_html) (2.18.4)\n",
            "Collecting pyppeteer>=0.0.14 (from requests_html)\n",
            "\u001b[?25l  Downloading https://files.pythonhosted.org/packages/b0/16/a5e8d617994cac605f972523bb25f12e3ff9c30baee29b4a9c50467229d9/pyppeteer-0.0.25.tar.gz (1.2MB)\n",
            "\u001b[K    100% |████████████████████████████████| 1.2MB 17.4MB/s \n",
            "\u001b[?25hCollecting w3lib (from requests_html)\n",
            "  Downloading https://files.pythonhosted.org/packages/81/43/9dcf92a77f5f0afe4f4df2407d7289eea01368a08b64bda00dd318ca62a6/w3lib-1.20.0-py2.py3-none-any.whl\n",
            "Requirement already satisfied: bs4 in /usr/local/lib/python3.6/dist-packages (from requests_html) (0.0.1)\n",
            "Collecting parse (from requests_html)\n",
            "  Downloading https://files.pythonhosted.org/packages/60/1c/065a39ceaf2f2e1ed74130bda8c87b71e01a2315d78ab612af86c0914abb/parse-1.11.1.tar.gz\n",
            "Requirement already satisfied: lxml>=2.1 in /usr/local/lib/python3.6/dist-packages (from pyquery->requests_html) (4.2.6)\n",
            "Collecting cssselect>0.7.9 (from pyquery->requests_html)\n",
            "  Downloading https://files.pythonhosted.org/packages/7b/44/25b7283e50585f0b4156960691d951b05d061abf4a714078393e51929b30/cssselect-1.0.3-py2.py3-none-any.whl\n",
            "Requirement already satisfied: chardet<3.1.0,>=3.0.2 in /usr/local/lib/python3.6/dist-packages (from requests->requests_html) (3.0.4)\n",
            "Requirement already satisfied: idna<2.7,>=2.5 in /usr/local/lib/python3.6/dist-packages (from requests->requests_html) (2.6)\n",
            "Requirement already satisfied: certifi>=2017.4.17 in /usr/local/lib/python3.6/dist-packages (from requests->requests_html) (2018.11.29)\n",
            "Requirement already satisfied: urllib3<1.23,>=1.21.1 in /usr/local/lib/python3.6/dist-packages (from requests->requests_html) (1.22)\n",
            "Collecting pyee (from pyppeteer>=0.0.14->requests_html)\n",
            "  Downloading https://files.pythonhosted.org/packages/8e/06/10c18578e2d8b9cf9902f424f86d433c647ca55e82293100f53e6c0afab4/pyee-5.0.0-py2.py3-none-any.whl\n",
            "Collecting websockets (from pyppeteer>=0.0.14->requests_html)\n",
            "\u001b[?25l  Downloading https://files.pythonhosted.org/packages/43/71/8bfa882b9c502c36e5c9ef6732969533670d2b039cbf95a82ced8f762b80/websockets-7.0-cp36-cp36m-manylinux1_x86_64.whl (63kB)\n",
            "\u001b[K    100% |████████████████████████████████| 71kB 23.4MB/s \n",
            "\u001b[?25hCollecting appdirs (from pyppeteer>=0.0.14->requests_html)\n",
            "  Downloading https://files.pythonhosted.org/packages/56/eb/810e700ed1349edde4cbdc1b2a21e28cdf115f9faf263f6bbf8447c1abf3/appdirs-1.4.3-py2.py3-none-any.whl\n",
            "Requirement already satisfied: tqdm in /usr/local/lib/python3.6/dist-packages (from pyppeteer>=0.0.14->requests_html) (4.28.1)\n",
            "Requirement already satisfied: six>=1.4.1 in /usr/local/lib/python3.6/dist-packages (from w3lib->requests_html) (1.11.0)\n",
            "Requirement already satisfied: beautifulsoup4 in /usr/local/lib/python3.6/dist-packages (from bs4->requests_html) (4.6.3)\n",
            "Building wheels for collected packages: fake-useragent, pyppeteer, parse\n",
            "  Building wheel for fake-useragent (setup.py) ... \u001b[?25ldone\n",
            "\u001b[?25h  Stored in directory: /root/.cache/pip/wheels/5e/63/09/d1dc15179f175357d3f5c00cbffbac37f9e8690d80545143ff\n",
            "  Building wheel for pyppeteer (setup.py) ... \u001b[?25ldone\n",
            "\u001b[?25h  Stored in directory: /root/.cache/pip/wheels/34/e0/5d/070e22eceecf7ecd5fa4b86bbc18c1c7d0b90e02e9b57f35eb\n",
            "  Building wheel for parse (setup.py) ... \u001b[?25ldone\n",
            "\u001b[?25h  Stored in directory: /root/.cache/pip/wheels/11/ef/7a/b4e5692572b93ce67bb9d0680bc8e840ff9a21fab73a3bff56\n",
            "Successfully built fake-useragent pyppeteer parse\n",
            "Installing collected packages: cssselect, pyquery, fake-useragent, pyee, websockets, appdirs, pyppeteer, w3lib, parse, requests-html\n",
            "Successfully installed appdirs-1.4.3 cssselect-1.0.3 fake-useragent-0.1.11 parse-1.11.1 pyee-5.0.0 pyppeteer-0.0.25 pyquery-1.4.0 requests-html-0.9.0 w3lib-1.20.0 websockets-7.0\n"
          ],
          "name": "stdout"
        }
      ]
    },
    {
      "metadata": {
        "colab_type": "code",
        "outputId": "2f69fb33-afbf-48b5-dd96-8fd41270c124",
        "id": "8Z_93MydBYNw",
        "colab": {
          "base_uri": "https://localhost:8080/",
          "height": 136
        }
      },
      "cell_type": "code",
      "source": [
        "!pip install panda"
      ],
      "execution_count": 0,
      "outputs": [
        {
          "output_type": "stream",
          "text": [
            "Requirement already satisfied: panda in /usr/local/lib/python3.6/dist-packages (0.3.1)\n",
            "Requirement already satisfied: requests in /usr/local/lib/python3.6/dist-packages (from panda) (2.18.4)\n",
            "Requirement already satisfied: setuptools in /usr/local/lib/python3.6/dist-packages (from panda) (40.8.0)\n",
            "Requirement already satisfied: urllib3<1.23,>=1.21.1 in /usr/local/lib/python3.6/dist-packages (from requests->panda) (1.22)\n",
            "Requirement already satisfied: certifi>=2017.4.17 in /usr/local/lib/python3.6/dist-packages (from requests->panda) (2018.11.29)\n",
            "Requirement already satisfied: idna<2.7,>=2.5 in /usr/local/lib/python3.6/dist-packages (from requests->panda) (2.6)\n",
            "Requirement already satisfied: chardet<3.1.0,>=3.0.2 in /usr/local/lib/python3.6/dist-packages (from requests->panda) (3.0.4)\n"
          ],
          "name": "stdout"
        }
      ]
    },
    {
      "metadata": {
        "id": "9alWs0FmQHzy",
        "colab_type": "code",
        "colab": {}
      },
      "cell_type": "code",
      "source": [
        "from requests_html import HTMLSession"
      ],
      "execution_count": 0,
      "outputs": []
    },
    {
      "metadata": {
        "id": "RSqYQ8ryQgqD",
        "colab_type": "code",
        "colab": {}
      },
      "cell_type": "code",
      "source": [
        "session = HTMLSession()"
      ],
      "execution_count": 0,
      "outputs": []
    },
    {
      "metadata": {
        "id": "rt4iniWpQo2q",
        "colab_type": "code",
        "colab": {}
      },
      "cell_type": "code",
      "source": [
        "url = 'http://sfs.scnu.edu.cn/xueyuandongtai/xueyuanxinwen/'"
      ],
      "execution_count": 0,
      "outputs": []
    },
    {
      "metadata": {
        "id": "GjprBnsqQvY-",
        "colab_type": "code",
        "colab": {}
      },
      "cell_type": "code",
      "source": [
        "r = session.get(url)"
      ],
      "execution_count": 0,
      "outputs": []
    },
    {
      "metadata": {
        "id": "OWMTaJzmQ1i1",
        "colab_type": "code",
        "outputId": "8497ad2d-d61a-42a2-ea6d-706feabbf888",
        "colab": {
          "base_uri": "https://localhost:8080/",
          "height": 901
        }
      },
      "cell_type": "code",
      "source": [
        "print (r.html.text)"
      ],
      "execution_count": 30,
      "outputs": [
        {
          "output_type": "stream",
          "text": [
            "学院新闻 - 华南师范大学外国语言文化学院\n",
            "党务工作专用监督方式wwxydw@scnu.edu.cn/85216910\n",
            "资讯搜索\n",
            "English\n",
            "网站首页\n",
            "学院概况\n",
            "学院简介 现任班子 机构设置 师资队伍\n",
            "学院动态\n",
            "通知公告 学院新闻 院务公开 下载专区\n",
            "党建工会\n",
            "党建工作 团建工作 教代会和工会\n",
            "人才培养\n",
            "本科生教育 研究生教育 继续教育\n",
            "学术研究\n",
            "通知告示 学术活动 研究平台 学术成果 管理文件\n",
            "国际合作\n",
            "合作学校 出国（境）项目 留学生项目\n",
            "社会服务\n",
            "教育智库建设 在职教师培训 资源共享平台 偏远地区帮扶 联合培养基地 语言培训\n",
            "校友之窗\n",
            "校友动态 榜样外文\n",
            "人才招聘\n",
            "高层次人才招聘 青年英才和博士后招聘 外籍教师招聘\n",
            "首页 » 学院动态 » 学院新闻 »\n",
            "通知公告 >\n",
            "学院新闻 >\n",
            "院务公开 >\n",
            "下载专区 >\n",
            "我院本科生获第6届广东省师范生教学技能大赛一等奖2018-09-25\n",
            "我院教育硕士获第二届全国教育硕士学科教学（英语）教学技能大赛一等奖2018-09-25\n",
            "清远市何黄玉湘中学教育硕士联合培养基地挂牌仪式暨“粤东西北教师提升计划”洽谈2018-09-19\n",
            "热烈祝贺我校首届“中俄文化周”圆满落幕2018-06-19\n",
            "我校“中俄文化周”开幕式圆满举行2018-06-15\n",
            "我院尚劝余教授应印度政府总理邀请出席纪念甘地诞辰150周年筹备会2018-05-08\n",
            "俄语系学子在\"奔向莫斯科\"俄语奥赛中荣获一等奖2018-04-10\n",
            "英语学科核心素养与外语教育信息化研讨及教学技能培训会在我院召开2018-04-05\n",
            "美国加州大学洛杉矶分校张敬珏教授讲座2017-12-27\n",
            "我院学子吴小雯获全国师范技能大赛一等奖2017-12-13\n",
            "外文-美术联队勇夺第二届教职工气排球大赛第五名与优秀组织奖2017-11-15\n",
            "友邦保险广东分公司资深业务经理莅临我院开展职场讲座2017-11-09\n",
            "我院学子再获广东省师范生教学技能大赛一等奖2017-10-16\n",
            "我院领导和老师分赴各地开展2014级师范生教育实习中期检查2017-10-15\n",
            "外国语言文化学院在中俄人文合作委员会第十八次会议中承担重要任务2017-09-25\n",
            "我院学子赴韩国大邱教育大学参加暑期 夏令营活动2017-09-19\n",
            "我院学子赴美国石溪大学参加夏令营活动2017-09-05\n",
            "我院本科生论文荣获国际学术会议优秀论文奖2017-07-03\n",
            "我院学子吴小雯获21世纪杯英语演讲比赛总决赛二等奖 2017-04-07\n",
            "我院又一部国家级规划教材《语料库辅助英语教学入门》正式出版2017-03-31\n",
            "356条 上一页 1 2 3 4 5 6 7 8 9 10 ..18 下一页\n",
            "[外语培训中心] [语料库语言学专题网站] [教师博客] [广东省翻译协会] [国际交流合作处] [网络公选课] [教务处网站]\n",
            "版权所有：华南师范大学外国语言文化学院 [广州市中山大道西55号 510631]\n",
            "联系电话：学院办公室 85211329/ 本科学工办 85211330/ 硕博学工办 85210896/ 本科教务 85211407/ 成教教务 85211406\n"
          ],
          "name": "stdout"
        }
      ]
    },
    {
      "metadata": {
        "id": "xex4egRdRKx-",
        "colab_type": "code",
        "outputId": "c4c27bb7-f47a-4175-bf75-5b645fed361e",
        "colab": {
          "base_uri": "https://localhost:8080/",
          "height": 1428
        }
      },
      "cell_type": "code",
      "source": [
        "r.html.absolute_links"
      ],
      "execution_count": 31,
      "outputs": [
        {
          "output_type": "execute_result",
          "data": {
            "text/plain": [
              "{'http://202.116.45.200/wsh/index.html',\n",
              " 'http://gxk.gdou.com/',\n",
              " 'http://jw.scnu.edu.cn',\n",
              " 'http://sfs.scnu.edu.cn',\n",
              " 'http://sfs.scnu.edu.cn/',\n",
              " 'http://sfs.scnu.edu.cn/a/20170331/1967.html',\n",
              " 'http://sfs.scnu.edu.cn/a/20170407/1970.html',\n",
              " 'http://sfs.scnu.edu.cn/a/20170703/2024.html',\n",
              " 'http://sfs.scnu.edu.cn/a/20170905/2034.html',\n",
              " 'http://sfs.scnu.edu.cn/a/20170919/2044.html',\n",
              " 'http://sfs.scnu.edu.cn/a/20170925/2049.html',\n",
              " 'http://sfs.scnu.edu.cn/a/20171015/2061.html',\n",
              " 'http://sfs.scnu.edu.cn/a/20171016/2058.html',\n",
              " 'http://sfs.scnu.edu.cn/a/20171109/2076.html',\n",
              " 'http://sfs.scnu.edu.cn/a/20171115/2078.html',\n",
              " 'http://sfs.scnu.edu.cn/a/20171213/2093.html',\n",
              " 'http://sfs.scnu.edu.cn/a/20171227/2101.html',\n",
              " 'http://sfs.scnu.edu.cn/a/20180405/2143.html',\n",
              " 'http://sfs.scnu.edu.cn/a/20180410/2151.html',\n",
              " 'http://sfs.scnu.edu.cn/a/20180508/2170.html',\n",
              " 'http://sfs.scnu.edu.cn/a/20180615/2202.html',\n",
              " 'http://sfs.scnu.edu.cn/a/20180619/2204.html',\n",
              " 'http://sfs.scnu.edu.cn/a/20180919/2234.html',\n",
              " 'http://sfs.scnu.edu.cn/a/20180925/2239.html',\n",
              " 'http://sfs.scnu.edu.cn/a/20180925/2240.html',\n",
              " 'http://sfs.scnu.edu.cn/corpus4u',\n",
              " 'http://sfs.scnu.edu.cn/dangjianzhongxin/',\n",
              " 'http://sfs.scnu.edu.cn/dangjianzhongxin/dangjian/',\n",
              " 'http://sfs.scnu.edu.cn/dangjianzhongxin/tuanjian/',\n",
              " 'http://sfs.scnu.edu.cn/english',\n",
              " 'http://sfs.scnu.edu.cn/gonghuidongtai/',\n",
              " 'http://sfs.scnu.edu.cn/guojihezuo/',\n",
              " 'http://sfs.scnu.edu.cn/guojihezuo/chuguojingxiangmu/',\n",
              " 'http://sfs.scnu.edu.cn/guojihezuo/hezuoxuexiao/',\n",
              " 'http://sfs.scnu.edu.cn/guojihezuo/liuxueshengxiangmu/',\n",
              " 'http://sfs.scnu.edu.cn/links.aspx?lsid=9',\n",
              " 'http://sfs.scnu.edu.cn/list.aspx?cid=28',\n",
              " 'http://sfs.scnu.edu.cn/peixunzhongxin/',\n",
              " 'http://sfs.scnu.edu.cn/peixunzhongxin/peixunkechengtixi/',\n",
              " 'http://sfs.scnu.edu.cn/peixunzhongxin/pianyuandiqubangfu/',\n",
              " 'http://sfs.scnu.edu.cn/peixunzhongxin/shehuifuwu/',\n",
              " 'http://sfs.scnu.edu.cn/peixunzhongxin/yypx/',\n",
              " 'http://sfs.scnu.edu.cn/peixunzhongxin/zaizhijiaoshipeixun/',\n",
              " 'http://sfs.scnu.edu.cn/peixunzhongxin/ziyuangongxiangpingtai/',\n",
              " 'http://sfs.scnu.edu.cn/rencaizhaopin/',\n",
              " 'http://sfs.scnu.edu.cn/rencaizhaopin/gaocengcirencaizhaopin/',\n",
              " 'http://sfs.scnu.edu.cn/rencaizhaopin/qingnianyingcaiheboshihouzhaop/',\n",
              " 'http://sfs.scnu.edu.cn/rencaizhaopin/waijijiaoshizhaopin/',\n",
              " 'http://sfs.scnu.edu.cn/xiaoyouzhichuang/',\n",
              " 'http://sfs.scnu.edu.cn/xiaoyouzhichuang/xiaoyoudongtai/',\n",
              " 'http://sfs.scnu.edu.cn/xiaoyouzhichuang/xiaoyoufengcai/',\n",
              " 'http://sfs.scnu.edu.cn/xueshukeyan/',\n",
              " 'http://sfs.scnu.edu.cn/xueshukeyan/guanliwenjian/',\n",
              " 'http://sfs.scnu.edu.cn/xueshukeyan/keyanchengguo/',\n",
              " 'http://sfs.scnu.edu.cn/xueshukeyan/xiangmushenbao/',\n",
              " 'http://sfs.scnu.edu.cn/xueshukeyan/xueshuhuodong/',\n",
              " 'http://sfs.scnu.edu.cn/xueshukeyan/yanjiupingtai/',\n",
              " 'http://sfs.scnu.edu.cn/xueyuandongtai/',\n",
              " 'http://sfs.scnu.edu.cn/xueyuandongtai/tongzhigonggao/',\n",
              " 'http://sfs.scnu.edu.cn/xueyuandongtai/xiazaizhuanqu/',\n",
              " 'http://sfs.scnu.edu.cn/xueyuandongtai/xueyuanxinwen/',\n",
              " 'http://sfs.scnu.edu.cn/xueyuandongtai/xueyuanxinwen/10.html',\n",
              " 'http://sfs.scnu.edu.cn/xueyuandongtai/xueyuanxinwen/18.html',\n",
              " 'http://sfs.scnu.edu.cn/xueyuandongtai/xueyuanxinwen/2.html',\n",
              " 'http://sfs.scnu.edu.cn/xueyuandongtai/xueyuanxinwen/3.html',\n",
              " 'http://sfs.scnu.edu.cn/xueyuandongtai/xueyuanxinwen/4.html',\n",
              " 'http://sfs.scnu.edu.cn/xueyuandongtai/xueyuanxinwen/5.html',\n",
              " 'http://sfs.scnu.edu.cn/xueyuandongtai/xueyuanxinwen/6.html',\n",
              " 'http://sfs.scnu.edu.cn/xueyuandongtai/xueyuanxinwen/7.html',\n",
              " 'http://sfs.scnu.edu.cn/xueyuandongtai/xueyuanxinwen/8.html',\n",
              " 'http://sfs.scnu.edu.cn/xueyuandongtai/xueyuanxinwen/9.html',\n",
              " 'http://sfs.scnu.edu.cn/xueyuandongtai/xueyuanxinwen/index.html',\n",
              " 'http://sfs.scnu.edu.cn/xueyuandongtai/yuanwugongkai/',\n",
              " 'http://sfs.scnu.edu.cn/xueyuangaikuang/',\n",
              " 'http://sfs.scnu.edu.cn/xueyuangaikuang/banxuetiaojian/',\n",
              " 'http://sfs.scnu.edu.cn/xueyuangaikuang/jianjie/',\n",
              " 'http://sfs.scnu.edu.cn/xueyuangaikuang/jigoushezhi/',\n",
              " 'http://sfs.scnu.edu.cn/xueyuangaikuang/xianrenbanzi/',\n",
              " 'http://sfs.scnu.edu.cn/zhaoshengxinxi/',\n",
              " 'http://sfs.scnu.edu.cn/zhaoshengxinxi/benkexuegong/',\n",
              " 'http://sfs.scnu.edu.cn/zhaoshengxinxi/chengjiaozikao/',\n",
              " 'http://sfs.scnu.edu.cn/zhaoshengxinxi/shuoboxuegong/',\n",
              " 'http://www.tagd.org.cn'}"
            ]
          },
          "metadata": {
            "tags": []
          },
          "execution_count": 31
        }
      ]
    },
    {
      "metadata": {
        "id": "0-TODM27RWe_",
        "colab_type": "code",
        "colab": {}
      },
      "cell_type": "code",
      "source": [
        "sel = 'body > div.contain > div.middle > div > div.right > ul > li:nth-child(1) > a'"
      ],
      "execution_count": 0,
      "outputs": []
    },
    {
      "metadata": {
        "id": "JCCTx-ENT0ni",
        "colab_type": "code",
        "colab": {}
      },
      "cell_type": "code",
      "source": [
        "results =r.html.find(sel)"
      ],
      "execution_count": 0,
      "outputs": []
    },
    {
      "metadata": {
        "id": "RONokyW6T8o5",
        "colab_type": "code",
        "outputId": "633c05cf-edc9-409e-d109-ca9a56f07827",
        "colab": {
          "base_uri": "https://localhost:8080/",
          "height": 34
        }
      },
      "cell_type": "code",
      "source": [
        "results"
      ],
      "execution_count": 35,
      "outputs": [
        {
          "output_type": "execute_result",
          "data": {
            "text/plain": [
              "[<Element 'a' href='http://sfs.scnu.edu.cn/a/20180925/2240.html'>]"
            ]
          },
          "metadata": {
            "tags": []
          },
          "execution_count": 35
        }
      ]
    },
    {
      "metadata": {
        "id": "VwJGtXuAT_4H",
        "colab_type": "code",
        "outputId": "c812a37c-b254-41b9-f7b1-8a0563bb2ab5",
        "colab": {
          "base_uri": "https://localhost:8080/",
          "height": 34
        }
      },
      "cell_type": "code",
      "source": [
        "results[0].text"
      ],
      "execution_count": 36,
      "outputs": [
        {
          "output_type": "execute_result",
          "data": {
            "text/plain": [
              "'我院本科生获第6届广东省师范生教学技能大赛一等奖'"
            ]
          },
          "metadata": {
            "tags": []
          },
          "execution_count": 36
        }
      ]
    },
    {
      "metadata": {
        "id": "_DEsKc8dUIJQ",
        "colab_type": "code",
        "outputId": "b71fa96b-447d-47cb-e1db-09daa2dc06b6",
        "colab": {
          "base_uri": "https://localhost:8080/",
          "height": 34
        }
      },
      "cell_type": "code",
      "source": [
        "results[0].absolute_links"
      ],
      "execution_count": 37,
      "outputs": [
        {
          "output_type": "execute_result",
          "data": {
            "text/plain": [
              "{'http://sfs.scnu.edu.cn/a/20180925/2240.html'}"
            ]
          },
          "metadata": {
            "tags": []
          },
          "execution_count": 37
        }
      ]
    },
    {
      "metadata": {
        "id": "avDB-JM-Uamd",
        "colab_type": "code",
        "colab": {}
      },
      "cell_type": "code",
      "source": [
        "def get_text_link_from_sel(sel):\n",
        "    mylist = []\n",
        "    savelink = []\n",
        "    try:\n",
        "        results = r.html.find(sel)\n",
        "        for result in results:\n",
        "            mytext = result.text\n",
        "            mylink = list(result.absolute_links)[0]\n",
        "            if not mylink in savelink:\n",
        "                mylist.append((mytext,mylink))\n",
        "                savelink.append(mylink)\n",
        "        return mylist\n",
        "    except:\n",
        "        return None"
      ],
      "execution_count": 0,
      "outputs": []
    },
    {
      "metadata": {
        "id": "FhKQTA4kUtNf",
        "colab_type": "code",
        "outputId": "2625b80e-e632-4c6c-99b7-870b8494cde5",
        "colab": {
          "base_uri": "https://localhost:8080/",
          "height": 54
        }
      },
      "cell_type": "code",
      "source": [
        "print(get_text_link_from_sel(sel))"
      ],
      "execution_count": 52,
      "outputs": [
        {
          "output_type": "stream",
          "text": [
            "[('我院本科生获第6届广东省师范生教学技能大赛一等奖', 'http://sfs.scnu.edu.cn/a/20180925/2240.html'), ('我院教育硕士获第二届全国教育硕士学科教学（英语）教学技能大赛一等奖', 'http://sfs.scnu.edu.cn/a/20180925/2239.html'), ('清远市何黄玉湘中学教育硕士联合培养基地挂牌仪式暨“粤东西北教师提升计划”洽谈', 'http://sfs.scnu.edu.cn/a/20180919/2234.html'), ('热烈祝贺我校首届“中俄文化周”圆满落幕', 'http://sfs.scnu.edu.cn/a/20180619/2204.html'), ('我校“中俄文化周”开幕式圆满举行', 'http://sfs.scnu.edu.cn/a/20180615/2202.html'), ('我院尚劝余教授应印度政府总理邀请出席纪念甘地诞辰150周年筹备会', 'http://sfs.scnu.edu.cn/a/20180508/2170.html'), ('俄语系学子在\"奔向莫斯科\"俄语奥赛中荣获一等奖', 'http://sfs.scnu.edu.cn/a/20180410/2151.html'), ('英语学科核心素养与外语教育信息化研讨及教学技能培训会在我院召开', 'http://sfs.scnu.edu.cn/a/20180405/2143.html'), ('美国加州大学洛杉矶分校张敬珏教授讲座', 'http://sfs.scnu.edu.cn/a/20171227/2101.html'), ('我院学子吴小雯获全国师范技能大赛一等奖', 'http://sfs.scnu.edu.cn/a/20171213/2093.html'), ('外文-美术联队勇夺第二届教职工气排球大赛第五名与优秀组织奖', 'http://sfs.scnu.edu.cn/a/20171115/2078.html'), ('友邦保险广东分公司资深业务经理莅临我院开展职场讲座', 'http://sfs.scnu.edu.cn/a/20171109/2076.html'), ('我院学子再获广东省师范生教学技能大赛一等奖', 'http://sfs.scnu.edu.cn/a/20171016/2058.html'), ('我院领导和老师分赴各地开展2014级师范生教育实习中期检查', 'http://sfs.scnu.edu.cn/a/20171015/2061.html'), ('外国语言文化学院在中俄人文合作委员会第十八次会议中承担重要任务', 'http://sfs.scnu.edu.cn/a/20170925/2049.html'), ('我院学子赴韩国大邱教育大学参加暑期 夏令营活动', 'http://sfs.scnu.edu.cn/a/20170919/2044.html'), ('我院学子赴美国石溪大学参加夏令营活动', 'http://sfs.scnu.edu.cn/a/20170905/2034.html'), ('我院本科生论文荣获国际学术会议优秀论文奖', 'http://sfs.scnu.edu.cn/a/20170703/2024.html'), ('我院学子吴小雯获21世纪杯英语演讲比赛总决赛二等奖', 'http://sfs.scnu.edu.cn/a/20170407/1970.html'), ('我院又一部国家级规划教材《语料库辅助英语教学入门》正式出版', 'http://sfs.scnu.edu.cn/a/20170331/1967.html')]\n"
          ],
          "name": "stdout"
        }
      ]
    },
    {
      "metadata": {
        "id": "SgcfWaojXUP6",
        "colab_type": "code",
        "colab": {}
      },
      "cell_type": "code",
      "source": [
        "sel = 'body > div.contain > div.middle > div > div.right > ul > li > a'"
      ],
      "execution_count": 0,
      "outputs": []
    },
    {
      "metadata": {
        "id": "zsKN0PfXYIZK",
        "colab_type": "code",
        "outputId": "78a654e2-ca46-4ed7-8c1c-d1c7a8e0bc25",
        "colab": {
          "base_uri": "https://localhost:8080/",
          "height": 54
        }
      },
      "cell_type": "code",
      "source": [
        "print(get_text_link_from_sel(sel))"
      ],
      "execution_count": 54,
      "outputs": [
        {
          "output_type": "stream",
          "text": [
            "[('我院本科生获第6届广东省师范生教学技能大赛一等奖', 'http://sfs.scnu.edu.cn/a/20180925/2240.html'), ('我院教育硕士获第二届全国教育硕士学科教学（英语）教学技能大赛一等奖', 'http://sfs.scnu.edu.cn/a/20180925/2239.html'), ('清远市何黄玉湘中学教育硕士联合培养基地挂牌仪式暨“粤东西北教师提升计划”洽谈', 'http://sfs.scnu.edu.cn/a/20180919/2234.html'), ('热烈祝贺我校首届“中俄文化周”圆满落幕', 'http://sfs.scnu.edu.cn/a/20180619/2204.html'), ('我校“中俄文化周”开幕式圆满举行', 'http://sfs.scnu.edu.cn/a/20180615/2202.html'), ('我院尚劝余教授应印度政府总理邀请出席纪念甘地诞辰150周年筹备会', 'http://sfs.scnu.edu.cn/a/20180508/2170.html'), ('俄语系学子在\"奔向莫斯科\"俄语奥赛中荣获一等奖', 'http://sfs.scnu.edu.cn/a/20180410/2151.html'), ('英语学科核心素养与外语教育信息化研讨及教学技能培训会在我院召开', 'http://sfs.scnu.edu.cn/a/20180405/2143.html'), ('美国加州大学洛杉矶分校张敬珏教授讲座', 'http://sfs.scnu.edu.cn/a/20171227/2101.html'), ('我院学子吴小雯获全国师范技能大赛一等奖', 'http://sfs.scnu.edu.cn/a/20171213/2093.html'), ('外文-美术联队勇夺第二届教职工气排球大赛第五名与优秀组织奖', 'http://sfs.scnu.edu.cn/a/20171115/2078.html'), ('友邦保险广东分公司资深业务经理莅临我院开展职场讲座', 'http://sfs.scnu.edu.cn/a/20171109/2076.html'), ('我院学子再获广东省师范生教学技能大赛一等奖', 'http://sfs.scnu.edu.cn/a/20171016/2058.html'), ('我院领导和老师分赴各地开展2014级师范生教育实习中期检查', 'http://sfs.scnu.edu.cn/a/20171015/2061.html'), ('外国语言文化学院在中俄人文合作委员会第十八次会议中承担重要任务', 'http://sfs.scnu.edu.cn/a/20170925/2049.html'), ('我院学子赴韩国大邱教育大学参加暑期 夏令营活动', 'http://sfs.scnu.edu.cn/a/20170919/2044.html'), ('我院学子赴美国石溪大学参加夏令营活动', 'http://sfs.scnu.edu.cn/a/20170905/2034.html'), ('我院本科生论文荣获国际学术会议优秀论文奖', 'http://sfs.scnu.edu.cn/a/20170703/2024.html'), ('我院学子吴小雯获21世纪杯英语演讲比赛总决赛二等奖', 'http://sfs.scnu.edu.cn/a/20170407/1970.html'), ('我院又一部国家级规划教材《语料库辅助英语教学入门》正式出版', 'http://sfs.scnu.edu.cn/a/20170331/1967.html')]\n"
          ],
          "name": "stdout"
        }
      ]
    },
    {
      "metadata": {
        "id": "GYbyCUyqaQ3i",
        "colab_type": "code",
        "colab": {}
      },
      "cell_type": "code",
      "source": [
        "import pandas as pd"
      ],
      "execution_count": 0,
      "outputs": []
    },
    {
      "metadata": {
        "id": "yNSjunH9abeb",
        "colab_type": "code",
        "colab": {}
      },
      "cell_type": "code",
      "source": [
        "df = pd.DataFrame(get_text_link_from_sel(sel))"
      ],
      "execution_count": 0,
      "outputs": []
    },
    {
      "metadata": {
        "id": "U8gWcAN9a4Ts",
        "colab_type": "code",
        "outputId": "b801c116-ec54-4d65-9037-e1900d567545",
        "colab": {
          "base_uri": "https://localhost:8080/",
          "height": 669
        }
      },
      "cell_type": "code",
      "source": [
        "df"
      ],
      "execution_count": 58,
      "outputs": [
        {
          "output_type": "execute_result",
          "data": {
            "text/html": [
              "<div>\n",
              "<style scoped>\n",
              "    .dataframe tbody tr th:only-of-type {\n",
              "        vertical-align: middle;\n",
              "    }\n",
              "\n",
              "    .dataframe tbody tr th {\n",
              "        vertical-align: top;\n",
              "    }\n",
              "\n",
              "    .dataframe thead th {\n",
              "        text-align: right;\n",
              "    }\n",
              "</style>\n",
              "<table border=\"1\" class=\"dataframe\">\n",
              "  <thead>\n",
              "    <tr style=\"text-align: right;\">\n",
              "      <th></th>\n",
              "      <th>0</th>\n",
              "      <th>1</th>\n",
              "    </tr>\n",
              "  </thead>\n",
              "  <tbody>\n",
              "    <tr>\n",
              "      <th>0</th>\n",
              "      <td>我院本科生获第6届广东省师范生教学技能大赛一等奖</td>\n",
              "      <td>http://sfs.scnu.edu.cn/a/20180925/2240.html</td>\n",
              "    </tr>\n",
              "    <tr>\n",
              "      <th>1</th>\n",
              "      <td>我院教育硕士获第二届全国教育硕士学科教学（英语）教学技能大赛一等奖</td>\n",
              "      <td>http://sfs.scnu.edu.cn/a/20180925/2239.html</td>\n",
              "    </tr>\n",
              "    <tr>\n",
              "      <th>2</th>\n",
              "      <td>清远市何黄玉湘中学教育硕士联合培养基地挂牌仪式暨“粤东西北教师提升计划”洽谈</td>\n",
              "      <td>http://sfs.scnu.edu.cn/a/20180919/2234.html</td>\n",
              "    </tr>\n",
              "    <tr>\n",
              "      <th>3</th>\n",
              "      <td>热烈祝贺我校首届“中俄文化周”圆满落幕</td>\n",
              "      <td>http://sfs.scnu.edu.cn/a/20180619/2204.html</td>\n",
              "    </tr>\n",
              "    <tr>\n",
              "      <th>4</th>\n",
              "      <td>我校“中俄文化周”开幕式圆满举行</td>\n",
              "      <td>http://sfs.scnu.edu.cn/a/20180615/2202.html</td>\n",
              "    </tr>\n",
              "    <tr>\n",
              "      <th>5</th>\n",
              "      <td>我院尚劝余教授应印度政府总理邀请出席纪念甘地诞辰150周年筹备会</td>\n",
              "      <td>http://sfs.scnu.edu.cn/a/20180508/2170.html</td>\n",
              "    </tr>\n",
              "    <tr>\n",
              "      <th>6</th>\n",
              "      <td>俄语系学子在\"奔向莫斯科\"俄语奥赛中荣获一等奖</td>\n",
              "      <td>http://sfs.scnu.edu.cn/a/20180410/2151.html</td>\n",
              "    </tr>\n",
              "    <tr>\n",
              "      <th>7</th>\n",
              "      <td>英语学科核心素养与外语教育信息化研讨及教学技能培训会在我院召开</td>\n",
              "      <td>http://sfs.scnu.edu.cn/a/20180405/2143.html</td>\n",
              "    </tr>\n",
              "    <tr>\n",
              "      <th>8</th>\n",
              "      <td>美国加州大学洛杉矶分校张敬珏教授讲座</td>\n",
              "      <td>http://sfs.scnu.edu.cn/a/20171227/2101.html</td>\n",
              "    </tr>\n",
              "    <tr>\n",
              "      <th>9</th>\n",
              "      <td>我院学子吴小雯获全国师范技能大赛一等奖</td>\n",
              "      <td>http://sfs.scnu.edu.cn/a/20171213/2093.html</td>\n",
              "    </tr>\n",
              "    <tr>\n",
              "      <th>10</th>\n",
              "      <td>外文-美术联队勇夺第二届教职工气排球大赛第五名与优秀组织奖</td>\n",
              "      <td>http://sfs.scnu.edu.cn/a/20171115/2078.html</td>\n",
              "    </tr>\n",
              "    <tr>\n",
              "      <th>11</th>\n",
              "      <td>友邦保险广东分公司资深业务经理莅临我院开展职场讲座</td>\n",
              "      <td>http://sfs.scnu.edu.cn/a/20171109/2076.html</td>\n",
              "    </tr>\n",
              "    <tr>\n",
              "      <th>12</th>\n",
              "      <td>我院学子再获广东省师范生教学技能大赛一等奖</td>\n",
              "      <td>http://sfs.scnu.edu.cn/a/20171016/2058.html</td>\n",
              "    </tr>\n",
              "    <tr>\n",
              "      <th>13</th>\n",
              "      <td>我院领导和老师分赴各地开展2014级师范生教育实习中期检查</td>\n",
              "      <td>http://sfs.scnu.edu.cn/a/20171015/2061.html</td>\n",
              "    </tr>\n",
              "    <tr>\n",
              "      <th>14</th>\n",
              "      <td>外国语言文化学院在中俄人文合作委员会第十八次会议中承担重要任务</td>\n",
              "      <td>http://sfs.scnu.edu.cn/a/20170925/2049.html</td>\n",
              "    </tr>\n",
              "    <tr>\n",
              "      <th>15</th>\n",
              "      <td>我院学子赴韩国大邱教育大学参加暑期 夏令营活动</td>\n",
              "      <td>http://sfs.scnu.edu.cn/a/20170919/2044.html</td>\n",
              "    </tr>\n",
              "    <tr>\n",
              "      <th>16</th>\n",
              "      <td>我院学子赴美国石溪大学参加夏令营活动</td>\n",
              "      <td>http://sfs.scnu.edu.cn/a/20170905/2034.html</td>\n",
              "    </tr>\n",
              "    <tr>\n",
              "      <th>17</th>\n",
              "      <td>我院本科生论文荣获国际学术会议优秀论文奖</td>\n",
              "      <td>http://sfs.scnu.edu.cn/a/20170703/2024.html</td>\n",
              "    </tr>\n",
              "    <tr>\n",
              "      <th>18</th>\n",
              "      <td>我院学子吴小雯获21世纪杯英语演讲比赛总决赛二等奖</td>\n",
              "      <td>http://sfs.scnu.edu.cn/a/20170407/1970.html</td>\n",
              "    </tr>\n",
              "    <tr>\n",
              "      <th>19</th>\n",
              "      <td>我院又一部国家级规划教材《语料库辅助英语教学入门》正式出版</td>\n",
              "      <td>http://sfs.scnu.edu.cn/a/20170331/1967.html</td>\n",
              "    </tr>\n",
              "  </tbody>\n",
              "</table>\n",
              "</div>"
            ],
            "text/plain": [
              "                                         0  \\\n",
              "0                 我院本科生获第6届广东省师范生教学技能大赛一等奖   \n",
              "1        我院教育硕士获第二届全国教育硕士学科教学（英语）教学技能大赛一等奖   \n",
              "2   清远市何黄玉湘中学教育硕士联合培养基地挂牌仪式暨“粤东西北教师提升计划”洽谈   \n",
              "3                      热烈祝贺我校首届“中俄文化周”圆满落幕   \n",
              "4                         我校“中俄文化周”开幕式圆满举行   \n",
              "5         我院尚劝余教授应印度政府总理邀请出席纪念甘地诞辰150周年筹备会   \n",
              "6                  俄语系学子在\"奔向莫斯科\"俄语奥赛中荣获一等奖   \n",
              "7          英语学科核心素养与外语教育信息化研讨及教学技能培训会在我院召开   \n",
              "8                       美国加州大学洛杉矶分校张敬珏教授讲座   \n",
              "9                      我院学子吴小雯获全国师范技能大赛一等奖   \n",
              "10           外文-美术联队勇夺第二届教职工气排球大赛第五名与优秀组织奖   \n",
              "11               友邦保险广东分公司资深业务经理莅临我院开展职场讲座   \n",
              "12                   我院学子再获广东省师范生教学技能大赛一等奖   \n",
              "13           我院领导和老师分赴各地开展2014级师范生教育实习中期检查   \n",
              "14         外国语言文化学院在中俄人文合作委员会第十八次会议中承担重要任务   \n",
              "15                 我院学子赴韩国大邱教育大学参加暑期 夏令营活动   \n",
              "16                      我院学子赴美国石溪大学参加夏令营活动   \n",
              "17                    我院本科生论文荣获国际学术会议优秀论文奖   \n",
              "18               我院学子吴小雯获21世纪杯英语演讲比赛总决赛二等奖   \n",
              "19           我院又一部国家级规划教材《语料库辅助英语教学入门》正式出版   \n",
              "\n",
              "                                              1  \n",
              "0   http://sfs.scnu.edu.cn/a/20180925/2240.html  \n",
              "1   http://sfs.scnu.edu.cn/a/20180925/2239.html  \n",
              "2   http://sfs.scnu.edu.cn/a/20180919/2234.html  \n",
              "3   http://sfs.scnu.edu.cn/a/20180619/2204.html  \n",
              "4   http://sfs.scnu.edu.cn/a/20180615/2202.html  \n",
              "5   http://sfs.scnu.edu.cn/a/20180508/2170.html  \n",
              "6   http://sfs.scnu.edu.cn/a/20180410/2151.html  \n",
              "7   http://sfs.scnu.edu.cn/a/20180405/2143.html  \n",
              "8   http://sfs.scnu.edu.cn/a/20171227/2101.html  \n",
              "9   http://sfs.scnu.edu.cn/a/20171213/2093.html  \n",
              "10  http://sfs.scnu.edu.cn/a/20171115/2078.html  \n",
              "11  http://sfs.scnu.edu.cn/a/20171109/2076.html  \n",
              "12  http://sfs.scnu.edu.cn/a/20171016/2058.html  \n",
              "13  http://sfs.scnu.edu.cn/a/20171015/2061.html  \n",
              "14  http://sfs.scnu.edu.cn/a/20170925/2049.html  \n",
              "15  http://sfs.scnu.edu.cn/a/20170919/2044.html  \n",
              "16  http://sfs.scnu.edu.cn/a/20170905/2034.html  \n",
              "17  http://sfs.scnu.edu.cn/a/20170703/2024.html  \n",
              "18  http://sfs.scnu.edu.cn/a/20170407/1970.html  \n",
              "19  http://sfs.scnu.edu.cn/a/20170331/1967.html  "
            ]
          },
          "metadata": {
            "tags": []
          },
          "execution_count": 58
        }
      ]
    },
    {
      "metadata": {
        "id": "01dKJcE5bBHC",
        "colab_type": "code",
        "colab": {}
      },
      "cell_type": "code",
      "source": [
        "df.columns = ['text', 'link']"
      ],
      "execution_count": 0,
      "outputs": []
    },
    {
      "metadata": {
        "id": "3S_XvZ8kbO8M",
        "colab_type": "code",
        "outputId": "d1599bb0-76cb-4f06-953e-aaddb8da89ce",
        "colab": {
          "base_uri": "https://localhost:8080/",
          "height": 669
        }
      },
      "cell_type": "code",
      "source": [
        "df"
      ],
      "execution_count": 60,
      "outputs": [
        {
          "output_type": "execute_result",
          "data": {
            "text/html": [
              "<div>\n",
              "<style scoped>\n",
              "    .dataframe tbody tr th:only-of-type {\n",
              "        vertical-align: middle;\n",
              "    }\n",
              "\n",
              "    .dataframe tbody tr th {\n",
              "        vertical-align: top;\n",
              "    }\n",
              "\n",
              "    .dataframe thead th {\n",
              "        text-align: right;\n",
              "    }\n",
              "</style>\n",
              "<table border=\"1\" class=\"dataframe\">\n",
              "  <thead>\n",
              "    <tr style=\"text-align: right;\">\n",
              "      <th></th>\n",
              "      <th>text</th>\n",
              "      <th>link</th>\n",
              "    </tr>\n",
              "  </thead>\n",
              "  <tbody>\n",
              "    <tr>\n",
              "      <th>0</th>\n",
              "      <td>我院本科生获第6届广东省师范生教学技能大赛一等奖</td>\n",
              "      <td>http://sfs.scnu.edu.cn/a/20180925/2240.html</td>\n",
              "    </tr>\n",
              "    <tr>\n",
              "      <th>1</th>\n",
              "      <td>我院教育硕士获第二届全国教育硕士学科教学（英语）教学技能大赛一等奖</td>\n",
              "      <td>http://sfs.scnu.edu.cn/a/20180925/2239.html</td>\n",
              "    </tr>\n",
              "    <tr>\n",
              "      <th>2</th>\n",
              "      <td>清远市何黄玉湘中学教育硕士联合培养基地挂牌仪式暨“粤东西北教师提升计划”洽谈</td>\n",
              "      <td>http://sfs.scnu.edu.cn/a/20180919/2234.html</td>\n",
              "    </tr>\n",
              "    <tr>\n",
              "      <th>3</th>\n",
              "      <td>热烈祝贺我校首届“中俄文化周”圆满落幕</td>\n",
              "      <td>http://sfs.scnu.edu.cn/a/20180619/2204.html</td>\n",
              "    </tr>\n",
              "    <tr>\n",
              "      <th>4</th>\n",
              "      <td>我校“中俄文化周”开幕式圆满举行</td>\n",
              "      <td>http://sfs.scnu.edu.cn/a/20180615/2202.html</td>\n",
              "    </tr>\n",
              "    <tr>\n",
              "      <th>5</th>\n",
              "      <td>我院尚劝余教授应印度政府总理邀请出席纪念甘地诞辰150周年筹备会</td>\n",
              "      <td>http://sfs.scnu.edu.cn/a/20180508/2170.html</td>\n",
              "    </tr>\n",
              "    <tr>\n",
              "      <th>6</th>\n",
              "      <td>俄语系学子在\"奔向莫斯科\"俄语奥赛中荣获一等奖</td>\n",
              "      <td>http://sfs.scnu.edu.cn/a/20180410/2151.html</td>\n",
              "    </tr>\n",
              "    <tr>\n",
              "      <th>7</th>\n",
              "      <td>英语学科核心素养与外语教育信息化研讨及教学技能培训会在我院召开</td>\n",
              "      <td>http://sfs.scnu.edu.cn/a/20180405/2143.html</td>\n",
              "    </tr>\n",
              "    <tr>\n",
              "      <th>8</th>\n",
              "      <td>美国加州大学洛杉矶分校张敬珏教授讲座</td>\n",
              "      <td>http://sfs.scnu.edu.cn/a/20171227/2101.html</td>\n",
              "    </tr>\n",
              "    <tr>\n",
              "      <th>9</th>\n",
              "      <td>我院学子吴小雯获全国师范技能大赛一等奖</td>\n",
              "      <td>http://sfs.scnu.edu.cn/a/20171213/2093.html</td>\n",
              "    </tr>\n",
              "    <tr>\n",
              "      <th>10</th>\n",
              "      <td>外文-美术联队勇夺第二届教职工气排球大赛第五名与优秀组织奖</td>\n",
              "      <td>http://sfs.scnu.edu.cn/a/20171115/2078.html</td>\n",
              "    </tr>\n",
              "    <tr>\n",
              "      <th>11</th>\n",
              "      <td>友邦保险广东分公司资深业务经理莅临我院开展职场讲座</td>\n",
              "      <td>http://sfs.scnu.edu.cn/a/20171109/2076.html</td>\n",
              "    </tr>\n",
              "    <tr>\n",
              "      <th>12</th>\n",
              "      <td>我院学子再获广东省师范生教学技能大赛一等奖</td>\n",
              "      <td>http://sfs.scnu.edu.cn/a/20171016/2058.html</td>\n",
              "    </tr>\n",
              "    <tr>\n",
              "      <th>13</th>\n",
              "      <td>我院领导和老师分赴各地开展2014级师范生教育实习中期检查</td>\n",
              "      <td>http://sfs.scnu.edu.cn/a/20171015/2061.html</td>\n",
              "    </tr>\n",
              "    <tr>\n",
              "      <th>14</th>\n",
              "      <td>外国语言文化学院在中俄人文合作委员会第十八次会议中承担重要任务</td>\n",
              "      <td>http://sfs.scnu.edu.cn/a/20170925/2049.html</td>\n",
              "    </tr>\n",
              "    <tr>\n",
              "      <th>15</th>\n",
              "      <td>我院学子赴韩国大邱教育大学参加暑期 夏令营活动</td>\n",
              "      <td>http://sfs.scnu.edu.cn/a/20170919/2044.html</td>\n",
              "    </tr>\n",
              "    <tr>\n",
              "      <th>16</th>\n",
              "      <td>我院学子赴美国石溪大学参加夏令营活动</td>\n",
              "      <td>http://sfs.scnu.edu.cn/a/20170905/2034.html</td>\n",
              "    </tr>\n",
              "    <tr>\n",
              "      <th>17</th>\n",
              "      <td>我院本科生论文荣获国际学术会议优秀论文奖</td>\n",
              "      <td>http://sfs.scnu.edu.cn/a/20170703/2024.html</td>\n",
              "    </tr>\n",
              "    <tr>\n",
              "      <th>18</th>\n",
              "      <td>我院学子吴小雯获21世纪杯英语演讲比赛总决赛二等奖</td>\n",
              "      <td>http://sfs.scnu.edu.cn/a/20170407/1970.html</td>\n",
              "    </tr>\n",
              "    <tr>\n",
              "      <th>19</th>\n",
              "      <td>我院又一部国家级规划教材《语料库辅助英语教学入门》正式出版</td>\n",
              "      <td>http://sfs.scnu.edu.cn/a/20170331/1967.html</td>\n",
              "    </tr>\n",
              "  </tbody>\n",
              "</table>\n",
              "</div>"
            ],
            "text/plain": [
              "                                      text  \\\n",
              "0                 我院本科生获第6届广东省师范生教学技能大赛一等奖   \n",
              "1        我院教育硕士获第二届全国教育硕士学科教学（英语）教学技能大赛一等奖   \n",
              "2   清远市何黄玉湘中学教育硕士联合培养基地挂牌仪式暨“粤东西北教师提升计划”洽谈   \n",
              "3                      热烈祝贺我校首届“中俄文化周”圆满落幕   \n",
              "4                         我校“中俄文化周”开幕式圆满举行   \n",
              "5         我院尚劝余教授应印度政府总理邀请出席纪念甘地诞辰150周年筹备会   \n",
              "6                  俄语系学子在\"奔向莫斯科\"俄语奥赛中荣获一等奖   \n",
              "7          英语学科核心素养与外语教育信息化研讨及教学技能培训会在我院召开   \n",
              "8                       美国加州大学洛杉矶分校张敬珏教授讲座   \n",
              "9                      我院学子吴小雯获全国师范技能大赛一等奖   \n",
              "10           外文-美术联队勇夺第二届教职工气排球大赛第五名与优秀组织奖   \n",
              "11               友邦保险广东分公司资深业务经理莅临我院开展职场讲座   \n",
              "12                   我院学子再获广东省师范生教学技能大赛一等奖   \n",
              "13           我院领导和老师分赴各地开展2014级师范生教育实习中期检查   \n",
              "14         外国语言文化学院在中俄人文合作委员会第十八次会议中承担重要任务   \n",
              "15                 我院学子赴韩国大邱教育大学参加暑期 夏令营活动   \n",
              "16                      我院学子赴美国石溪大学参加夏令营活动   \n",
              "17                    我院本科生论文荣获国际学术会议优秀论文奖   \n",
              "18               我院学子吴小雯获21世纪杯英语演讲比赛总决赛二等奖   \n",
              "19           我院又一部国家级规划教材《语料库辅助英语教学入门》正式出版   \n",
              "\n",
              "                                           link  \n",
              "0   http://sfs.scnu.edu.cn/a/20180925/2240.html  \n",
              "1   http://sfs.scnu.edu.cn/a/20180925/2239.html  \n",
              "2   http://sfs.scnu.edu.cn/a/20180919/2234.html  \n",
              "3   http://sfs.scnu.edu.cn/a/20180619/2204.html  \n",
              "4   http://sfs.scnu.edu.cn/a/20180615/2202.html  \n",
              "5   http://sfs.scnu.edu.cn/a/20180508/2170.html  \n",
              "6   http://sfs.scnu.edu.cn/a/20180410/2151.html  \n",
              "7   http://sfs.scnu.edu.cn/a/20180405/2143.html  \n",
              "8   http://sfs.scnu.edu.cn/a/20171227/2101.html  \n",
              "9   http://sfs.scnu.edu.cn/a/20171213/2093.html  \n",
              "10  http://sfs.scnu.edu.cn/a/20171115/2078.html  \n",
              "11  http://sfs.scnu.edu.cn/a/20171109/2076.html  \n",
              "12  http://sfs.scnu.edu.cn/a/20171016/2058.html  \n",
              "13  http://sfs.scnu.edu.cn/a/20171015/2061.html  \n",
              "14  http://sfs.scnu.edu.cn/a/20170925/2049.html  \n",
              "15  http://sfs.scnu.edu.cn/a/20170919/2044.html  \n",
              "16  http://sfs.scnu.edu.cn/a/20170905/2034.html  \n",
              "17  http://sfs.scnu.edu.cn/a/20170703/2024.html  \n",
              "18  http://sfs.scnu.edu.cn/a/20170407/1970.html  \n",
              "19  http://sfs.scnu.edu.cn/a/20170331/1967.html  "
            ]
          },
          "metadata": {
            "tags": []
          },
          "execution_count": 60
        }
      ]
    },
    {
      "metadata": {
        "id": "b32lfuzQbYWW",
        "colab_type": "code",
        "colab": {}
      },
      "cell_type": "code",
      "source": [
        "df.to_csv('output.csv',encoding='gbk', index=False)"
      ],
      "execution_count": 0,
      "outputs": []
    },
    {
      "metadata": {
        "id": "dc84WBu8BUPd",
        "colab_type": "code",
        "colab": {}
      },
      "cell_type": "code",
      "source": [
        ""
      ],
      "execution_count": 0,
      "outputs": []
    }
  ]
}